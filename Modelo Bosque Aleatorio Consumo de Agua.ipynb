{
 "cells": [
  {
   "cell_type": "code",
   "execution_count": 1,
   "id": "e5101e80",
   "metadata": {},
   "outputs": [],
   "source": [
    "%config Completer.use_jedi = False"
   ]
  },
  {
   "cell_type": "code",
   "execution_count": 2,
   "id": "9ace3b93",
   "metadata": {},
   "outputs": [],
   "source": [
    "import pandas as pd\n",
    "import numpy as np\n",
    "import multiprocessing\n",
    "import matplotlib.pyplot as plt\n",
    "from sklearn.model_selection import train_test_split, GridSearchCV, RepeatedKFold\n",
    "from sklearn.compose import ColumnTransformer\n",
    "from sklearn.preprocessing import OneHotEncoder\n",
    "from sklearn.ensemble import RandomForestRegressor\n",
    "from sklearn.metrics import mean_squared_error\n",
    "from sklearn.inspection import permutation_importance"
   ]
  },
  {
   "cell_type": "code",
   "execution_count": 3,
   "id": "a20819a8",
   "metadata": {},
   "outputs": [],
   "source": [
    "datos = pd.read_csv('datos.csv')"
   ]
  },
  {
   "cell_type": "code",
   "execution_count": 4,
   "id": "06d39c5b",
   "metadata": {},
   "outputs": [
    {
     "data": {
      "text/html": [
       "<div>\n",
       "<style scoped>\n",
       "    .dataframe tbody tr th:only-of-type {\n",
       "        vertical-align: middle;\n",
       "    }\n",
       "\n",
       "    .dataframe tbody tr th {\n",
       "        vertical-align: top;\n",
       "    }\n",
       "\n",
       "    .dataframe thead th {\n",
       "        text-align: right;\n",
       "    }\n",
       "</style>\n",
       "<table border=\"1\" class=\"dataframe\">\n",
       "  <thead>\n",
       "    <tr style=\"text-align: right;\">\n",
       "      <th></th>\n",
       "      <th>colonia</th>\n",
       "      <th>alcaldia</th>\n",
       "      <th>bimestre</th>\n",
       "      <th>consumo_total</th>\n",
       "      <th>idh</th>\n",
       "    </tr>\n",
       "  </thead>\n",
       "  <tbody>\n",
       "    <tr>\n",
       "      <th>0</th>\n",
       "      <td>1A. AMPLIACION PRESIDENTES</td>\n",
       "      <td>ALVARO OBREGON</td>\n",
       "      <td>1</td>\n",
       "      <td>2968.52</td>\n",
       "      <td>0.836</td>\n",
       "    </tr>\n",
       "    <tr>\n",
       "      <th>1</th>\n",
       "      <td>1A. AMPLIACION PRESIDENTES</td>\n",
       "      <td>ALVARO OBREGON</td>\n",
       "      <td>2</td>\n",
       "      <td>3092.45</td>\n",
       "      <td>0.836</td>\n",
       "    </tr>\n",
       "    <tr>\n",
       "      <th>2</th>\n",
       "      <td>1A. AMPLIACION PRESIDENTES</td>\n",
       "      <td>ALVARO OBREGON</td>\n",
       "      <td>3</td>\n",
       "      <td>3114.91</td>\n",
       "      <td>0.836</td>\n",
       "    </tr>\n",
       "    <tr>\n",
       "      <th>3</th>\n",
       "      <td>1A. VICTORIA</td>\n",
       "      <td>ALVARO OBREGON</td>\n",
       "      <td>1</td>\n",
       "      <td>11249.78</td>\n",
       "      <td>0.836</td>\n",
       "    </tr>\n",
       "    <tr>\n",
       "      <th>4</th>\n",
       "      <td>1A. VICTORIA</td>\n",
       "      <td>ALVARO OBREGON</td>\n",
       "      <td>2</td>\n",
       "      <td>11768.77</td>\n",
       "      <td>0.836</td>\n",
       "    </tr>\n",
       "  </tbody>\n",
       "</table>\n",
       "</div>"
      ],
      "text/plain": [
       "                      colonia        alcaldia  bimestre  consumo_total    idh\n",
       "0  1A. AMPLIACION PRESIDENTES  ALVARO OBREGON         1        2968.52  0.836\n",
       "1  1A. AMPLIACION PRESIDENTES  ALVARO OBREGON         2        3092.45  0.836\n",
       "2  1A. AMPLIACION PRESIDENTES  ALVARO OBREGON         3        3114.91  0.836\n",
       "3                1A. VICTORIA  ALVARO OBREGON         1       11249.78  0.836\n",
       "4                1A. VICTORIA  ALVARO OBREGON         2       11768.77  0.836"
      ]
     },
     "execution_count": 4,
     "metadata": {},
     "output_type": "execute_result"
    }
   ],
   "source": [
    "datos.head()"
   ]
  },
  {
   "cell_type": "code",
   "execution_count": 5,
   "id": "2ef2633e",
   "metadata": {},
   "outputs": [
    {
     "data": {
      "text/plain": [
       "colonia           object\n",
       "alcaldia          object\n",
       "bimestre           int64\n",
       "consumo_total    float64\n",
       "idh              float64\n",
       "dtype: object"
      ]
     },
     "execution_count": 5,
     "metadata": {},
     "output_type": "execute_result"
    }
   ],
   "source": [
    "datos.dtypes"
   ]
  },
  {
   "cell_type": "code",
   "execution_count": 6,
   "id": "b04e3f6c",
   "metadata": {},
   "outputs": [],
   "source": [
    "X = datos.drop(columns=['consumo_total', 'colonia'])"
   ]
  },
  {
   "cell_type": "code",
   "execution_count": 7,
   "id": "7d4dfdd3",
   "metadata": {},
   "outputs": [],
   "source": [
    "y = datos['consumo_total']"
   ]
  },
  {
   "cell_type": "code",
   "execution_count": 8,
   "id": "3856daae",
   "metadata": {},
   "outputs": [],
   "source": [
    "X_train, X_test, y_train, y_test = train_test_split(X, y, train_size=0.8, random_state=123)"
   ]
  },
  {
   "cell_type": "code",
   "execution_count": 9,
   "id": "2e4f6363",
   "metadata": {},
   "outputs": [],
   "source": [
    "nom_cols = X_train.select_dtypes(include=['object', 'int64']).columns.to_list()"
   ]
  },
  {
   "cell_type": "code",
   "execution_count": 10,
   "id": "62004d6c",
   "metadata": {},
   "outputs": [],
   "source": [
    "preprocessor_nom = ColumnTransformer(transformers=[('OneHot',\n",
    "                                                    OneHotEncoder(handle_unknown='ignore', sparse=False),\n",
    "                                                    nom_cols)])"
   ]
  },
  {
   "cell_type": "code",
   "execution_count": 11,
   "id": "2af064ca",
   "metadata": {},
   "outputs": [],
   "source": [
    "X_train_prep = preprocessor_nom.fit_transform(X_train)\n",
    "X_test_prep = preprocessor_nom.fit_transform(X_test)"
   ]
  },
  {
   "cell_type": "code",
   "execution_count": 12,
   "id": "76541e29",
   "metadata": {},
   "outputs": [],
   "source": [
    "col_names_nom = preprocessor_nom.named_transformers_['OneHot'].get_feature_names(nom_cols)"
   ]
  },
  {
   "cell_type": "code",
   "execution_count": 13,
   "id": "aa18345e",
   "metadata": {},
   "outputs": [],
   "source": [
    "X_train_prep_df = pd.DataFrame(data=X_train_prep, columns=col_names_nom)\n",
    "X_test_prep_df = pd.DataFrame(data=X_test_prep, columns=col_names_nom)"
   ]
  },
  {
   "cell_type": "code",
   "execution_count": 14,
   "id": "9a68e185",
   "metadata": {},
   "outputs": [],
   "source": [
    "X_train_prep_df = X_train_prep_df.assign(IDH = X_train['idh'].tolist())\n",
    "X_test_prep_df = X_test_prep_df.assign(IDH = X_test['idh'].tolist())"
   ]
  },
  {
   "cell_type": "code",
   "execution_count": 15,
   "id": "fcc0e15e",
   "metadata": {},
   "outputs": [
    {
     "data": {
      "text/html": [
       "<div>\n",
       "<style scoped>\n",
       "    .dataframe tbody tr th:only-of-type {\n",
       "        vertical-align: middle;\n",
       "    }\n",
       "\n",
       "    .dataframe tbody tr th {\n",
       "        vertical-align: top;\n",
       "    }\n",
       "\n",
       "    .dataframe thead th {\n",
       "        text-align: right;\n",
       "    }\n",
       "</style>\n",
       "<table border=\"1\" class=\"dataframe\">\n",
       "  <thead>\n",
       "    <tr style=\"text-align: right;\">\n",
       "      <th></th>\n",
       "      <th>param_max_depth</th>\n",
       "      <th>param_max_features</th>\n",
       "      <th>param_n_estimators</th>\n",
       "      <th>mean_test_score</th>\n",
       "      <th>std_test_score</th>\n",
       "      <th>mean_train_score</th>\n",
       "      <th>std_train_score</th>\n",
       "    </tr>\n",
       "  </thead>\n",
       "  <tbody>\n",
       "    <tr>\n",
       "      <th>25</th>\n",
       "      <td>3</td>\n",
       "      <td>15</td>\n",
       "      <td>150</td>\n",
       "      <td>-50357.273488</td>\n",
       "      <td>6014.624194</td>\n",
       "      <td>-49313.758352</td>\n",
       "      <td>1526.986028</td>\n",
       "    </tr>\n",
       "    <tr>\n",
       "      <th>26</th>\n",
       "      <td>3</td>\n",
       "      <td>15</td>\n",
       "      <td>300</td>\n",
       "      <td>-50357.416026</td>\n",
       "      <td>6000.631506</td>\n",
       "      <td>-49305.109605</td>\n",
       "      <td>1526.427857</td>\n",
       "    </tr>\n",
       "    <tr>\n",
       "      <th>24</th>\n",
       "      <td>3</td>\n",
       "      <td>15</td>\n",
       "      <td>100</td>\n",
       "      <td>-50373.807286</td>\n",
       "      <td>6019.271238</td>\n",
       "      <td>-49336.124365</td>\n",
       "      <td>1525.199748</td>\n",
       "    </tr>\n",
       "    <tr>\n",
       "      <th>27</th>\n",
       "      <td>3</td>\n",
       "      <td>15</td>\n",
       "      <td>500</td>\n",
       "      <td>-50383.780306</td>\n",
       "      <td>6010.880642</td>\n",
       "      <td>-49305.681019</td>\n",
       "      <td>1524.663527</td>\n",
       "    </tr>\n",
       "  </tbody>\n",
       "</table>\n",
       "</div>"
      ],
      "text/plain": [
       "   param_max_depth param_max_features param_n_estimators  mean_test_score  \\\n",
       "25               3                 15                150    -50357.273488   \n",
       "26               3                 15                300    -50357.416026   \n",
       "24               3                 15                100    -50373.807286   \n",
       "27               3                 15                500    -50383.780306   \n",
       "\n",
       "    std_test_score  mean_train_score  std_train_score  \n",
       "25     6014.624194     -49313.758352      1526.986028  \n",
       "26     6000.631506     -49305.109605      1526.427857  \n",
       "24     6019.271238     -49336.124365      1525.199748  \n",
       "27     6010.880642     -49305.681019      1524.663527  "
      ]
     },
     "execution_count": 15,
     "metadata": {},
     "output_type": "execute_result"
    }
   ],
   "source": [
    "param_grid = {'n_estimators': [100, 150, 300, 500],\n",
    "              'max_features': [5, 10, 15, 20],\n",
    "              'max_depth'   : [None, 3, 10, 20, 50]\n",
    "             }\n",
    "\n",
    "grid = GridSearchCV(\n",
    "        estimator  = RandomForestRegressor(random_state = 123),\n",
    "        param_grid = param_grid,\n",
    "        scoring    = 'neg_root_mean_squared_error',\n",
    "        n_jobs     = multiprocessing.cpu_count() - 1,\n",
    "        cv         = RepeatedKFold(n_splits=5, n_repeats=3, random_state=123), \n",
    "        refit      = True,\n",
    "        verbose    = 0,\n",
    "        return_train_score = True\n",
    "       )\n",
    "\n",
    "grid.fit(X = X_train_prep_df, y = y_train)\n",
    "\n",
    "resultados = pd.DataFrame(grid.cv_results_)\n",
    "resultados.filter(regex = '(param.*|mean_t|std_t)') \\\n",
    "    .drop(columns = 'params') \\\n",
    "    .sort_values('mean_test_score', ascending = False) \\\n",
    "    .head(4)"
   ]
  },
  {
   "cell_type": "code",
   "execution_count": 16,
   "id": "312e9f27",
   "metadata": {},
   "outputs": [
    {
     "name": "stdout",
     "output_type": "stream",
     "text": [
      "Mejores hiperparámetros encontrados usando validación cruzada\n",
      "{'max_depth': 3, 'max_features': 15, 'n_estimators': 150} : -50357.27348780452 neg_root_mean_squared_error\n"
     ]
    }
   ],
   "source": [
    "print(\"Mejores hiperparámetros encontrados usando validación cruzada\")\n",
    "print(grid.best_params_, \":\", grid.best_score_, grid.scoring)"
   ]
  },
  {
   "cell_type": "code",
   "execution_count": 17,
   "id": "35be5d0e",
   "metadata": {},
   "outputs": [
    {
     "name": "stdout",
     "output_type": "stream",
     "text": [
      "La raíz del error cuadrático medio para los datos de prueba: 63990.41432656632\n"
     ]
    }
   ],
   "source": [
    "modelo_final = grid.best_estimator_\n",
    "predicciones = modelo_final.predict(X = X_test_prep_df)\n",
    "rmse = mean_squared_error(\n",
    "        y_true  = y_test,\n",
    "        y_pred  = predicciones,\n",
    "        squared = False\n",
    "       )\n",
    "print(f\"La raíz del error cuadrático medio para los datos de prueba: {rmse}\")"
   ]
  },
  {
   "cell_type": "code",
   "execution_count": 18,
   "id": "56ac0a61",
   "metadata": {},
   "outputs": [],
   "source": [
    "perm_importance = permutation_importance(modelo_final, X_test_prep_df, y_test)"
   ]
  },
  {
   "cell_type": "code",
   "execution_count": 19,
   "id": "ec2e1f32",
   "metadata": {},
   "outputs": [
    {
     "data": {
      "image/png": "[encoded data removed]",
      "text/plain": [
       "<Figure size 648x504 with 1 Axes>"
      ]
     },
     "metadata": {
      "needs_background": "light"
     },
     "output_type": "display_data"
    }
   ],
   "source": [
    "sorted_idx = perm_importance.importances_mean.argsort()\n",
    "plt.figure(figsize=(9,7))\n",
    "plt.barh(X_train_prep_df.columns[sorted_idx], perm_importance.importances_mean[sorted_idx])\n",
    "plt.xlabel(\"Importancia por permutación\")\n",
    "plt.title(\"Importancia de los predictores en la regresión de bosque aleatorio\\nusando la variable consumo total como respuesta\")\n",
    "plt.tight_layout()\n",
    "plt.savefig(\"ImportanciaPredictores.pdf\")\n",
    "plt.show()"
   ]
  },
  {
   "cell_type": "code",
   "execution_count": null,
   "id": "7359c945",
   "metadata": {},
   "outputs": [],
   "source": []
  }
 ],
 "metadata": {
  "kernelspec": {
   "display_name": "Python 3 (ipykernel)",
   "language": "python",
   "name": "python3"
  },
  "language_info": {
   "codemirror_mode": {
    "name": "ipython",
    "version": 3
   },
   "file_extension": ".py",
   "mimetype": "text/x-python",
   "name": "python",
   "nbconvert_exporter": "python",
   "pygments_lexer": "ipython3",
   "version": "3.7.8"
  }
 },
 "nbformat": 4,
 "nbformat_minor": 5
}
